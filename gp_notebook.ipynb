{
 "cells": [
  {
   "cell_type": "code",
   "execution_count": 2,
   "metadata": {},
   "outputs": [],
   "source": [
    "import numpy as np\n",
    "import matplotlib.pyplot as plt\n",
    "import seaborn as sns"
   ]
  },
  {
   "cell_type": "code",
   "execution_count": 14,
   "metadata": {},
   "outputs": [
    {
     "name": "stdout",
     "output_type": "stream",
     "text": [
      "[0.   0.25 0.5  0.75 1.  ]\n",
      "[[1.         0.67693458 0.24311673 0.14063737 1.        ]\n",
      " [0.67693458 1.         0.67693458 0.24311673 0.14063737]\n",
      " [0.24311673 0.67693458 1.         0.67693458 0.24311673]\n",
      " [0.14063737 0.24311673 0.67693458 1.         0.67693458]\n",
      " [1.         0.14063737 0.24311673 0.67693458 1.        ]]\n",
      "[[1.         0.67693458 0.24311673 0.14063737 1.        ]\n",
      " [0.67693458 1.         0.67693458 0.24311673 0.14063737]\n",
      " [0.24311673 0.67693458 1.         0.67693458 0.24311673]\n",
      " [0.14063737 0.24311673 0.67693458 1.         0.67693458]\n",
      " [1.         0.14063737 0.24311673 0.67693458 1.        ]]\n",
      "[-0.27793689  0.10467507  1.03482016  1.23938197  2.8990597 ]\n"
     ]
    },
    {
     "ename": "LinAlgError",
     "evalue": "Matrix is not positive definite",
     "output_type": "error",
     "traceback": [
      "\u001b[0;31m---------------------------------------------------------------------------\u001b[0m",
      "\u001b[0;31mLinAlgError\u001b[0m                               Traceback (most recent call last)",
      "Cell \u001b[0;32mIn [14], line 53\u001b[0m\n\u001b[1;32m     49\u001b[0m     L \u001b[39m=\u001b[39m np\u001b[39m.\u001b[39mlinalg\u001b[39m.\u001b[39mcholesky(covariance_matrix)\n\u001b[1;32m     50\u001b[0m     \u001b[39mreturn\u001b[39;00m mu \u001b[39m+\u001b[39m np\u001b[39m.\u001b[39mmatmul(L, u)\n\u001b[0;32m---> 53\u001b[0m y_test \u001b[39m=\u001b[39m multivariate_guassian(mu, covariance_matrix)\n\u001b[1;32m     55\u001b[0m x\u001b[39m=\u001b[39mx_test\n\u001b[1;32m     56\u001b[0m y\u001b[39m=\u001b[39my_test\n",
      "Cell \u001b[0;32mIn [14], line 49\u001b[0m, in \u001b[0;36mmultivariate_guassian\u001b[0;34m(mu, covariance_matrix)\u001b[0m\n\u001b[1;32m     47\u001b[0m \u001b[39mprint\u001b[39m(covariance_matrix)\n\u001b[1;32m     48\u001b[0m \u001b[39mprint\u001b[39m(np\u001b[39m.\u001b[39mlinalg\u001b[39m.\u001b[39meigvalsh(covariance_matrix))\n\u001b[0;32m---> 49\u001b[0m L \u001b[39m=\u001b[39m np\u001b[39m.\u001b[39;49mlinalg\u001b[39m.\u001b[39;49mcholesky(covariance_matrix)\n\u001b[1;32m     50\u001b[0m \u001b[39mreturn\u001b[39;00m mu \u001b[39m+\u001b[39m np\u001b[39m.\u001b[39mmatmul(L, u)\n",
      "File \u001b[0;32m<__array_function__ internals>:180\u001b[0m, in \u001b[0;36mcholesky\u001b[0;34m(*args, **kwargs)\u001b[0m\n",
      "File \u001b[0;32m~/.pyenv/versions/3.8.13/lib/python3.8/site-packages/numpy/linalg/linalg.py:770\u001b[0m, in \u001b[0;36mcholesky\u001b[0;34m(a)\u001b[0m\n\u001b[1;32m    768\u001b[0m t, result_t \u001b[39m=\u001b[39m _commonType(a)\n\u001b[1;32m    769\u001b[0m signature \u001b[39m=\u001b[39m \u001b[39m'\u001b[39m\u001b[39mD->D\u001b[39m\u001b[39m'\u001b[39m \u001b[39mif\u001b[39;00m isComplexType(t) \u001b[39melse\u001b[39;00m \u001b[39m'\u001b[39m\u001b[39md->d\u001b[39m\u001b[39m'\u001b[39m\n\u001b[0;32m--> 770\u001b[0m r \u001b[39m=\u001b[39m gufunc(a, signature\u001b[39m=\u001b[39;49msignature, extobj\u001b[39m=\u001b[39;49mextobj)\n\u001b[1;32m    771\u001b[0m \u001b[39mreturn\u001b[39;00m wrap(r\u001b[39m.\u001b[39mastype(result_t, copy\u001b[39m=\u001b[39m\u001b[39mFalse\u001b[39;00m))\n",
      "File \u001b[0;32m~/.pyenv/versions/3.8.13/lib/python3.8/site-packages/numpy/linalg/linalg.py:92\u001b[0m, in \u001b[0;36m_raise_linalgerror_nonposdef\u001b[0;34m(err, flag)\u001b[0m\n\u001b[1;32m     91\u001b[0m \u001b[39mdef\u001b[39;00m \u001b[39m_raise_linalgerror_nonposdef\u001b[39m(err, flag):\n\u001b[0;32m---> 92\u001b[0m     \u001b[39mraise\u001b[39;00m LinAlgError(\u001b[39m\"\u001b[39m\u001b[39mMatrix is not positive definite\u001b[39m\u001b[39m\"\u001b[39m)\n",
      "\u001b[0;31mLinAlgError\u001b[0m: Matrix is not positive definite"
     ]
    }
   ],
   "source": [
    "n = 5\n",
    "\n",
    "x_test = np.linspace(start=0, stop=1, num=n)\n",
    "print(x_test)\n",
    "x_train = np.array([0.25, 0.5, 0.75])\n",
    "y_train = x_train\n",
    "\n",
    "\n",
    "def covariance(x1, x2):\n",
    "    #return (x1 * x2)\n",
    "    #return np.exp(-0.5 * (x1 - x2)**2)\n",
    "    return np.exp(-(2 * np.sin(np.pi * (x1 - x2)**2)))\n",
    "\n",
    "def generate_covariance_matrix(x,y):\n",
    "\n",
    "    n1 = x.shape[0]\n",
    "    n2 = y.shape[0]\n",
    "\n",
    "\n",
    "    covariance_matrix = np.zeros((n1,n2))\n",
    "\n",
    "    for i in range(n1):\n",
    "        for j in range(n2):\n",
    "            covariance_matrix[i][j] = covariance(x[i], y[j])\n",
    "            \n",
    "        \n",
    "\n",
    "    return covariance_matrix\n",
    "\n",
    "\n",
    "K_test_train = generate_covariance_matrix(x_test, x_train)\n",
    "K_train_test = generate_covariance_matrix(x_train, x_test)\n",
    "K_test_test = generate_covariance_matrix(x_test, x_test)\n",
    "K_train_train  = generate_covariance_matrix(x_train, x_train)\n",
    "\n",
    "mu = np.zeros(n)\n",
    "covariance_matrix = generate_covariance_matrix(x_test, x_test)\n",
    "#mu = K_test_train.dot(np.linalg.inv(K_train_train)).dot(x_train)\n",
    "#covariance_matrix = K_test_test - K_test_train.dot(np.linalg.inv(K_train_train)).dot(K_train_test)\n",
    "\n",
    "\n",
    "print(covariance_matrix)\n",
    "\n",
    "def multivariate_guassian(mu, covariance_matrix):\n",
    "    u = np.random.normal(loc=0, scale=0.01, size=mu.shape[0])\n",
    "    #covariance_matrix = covariance_matrix + np.diag(np.random.normal(loc=0, scale=1, size=covariance_matrix.shape[0]))\n",
    "    print(covariance_matrix)\n",
    "    print(np.linalg.eigvalsh(covariance_matrix))\n",
    "    L = np.linalg.cholesky(covariance_matrix)\n",
    "    return mu + np.matmul(L, u)\n",
    "\n",
    "\n",
    "y_test = multivariate_guassian(mu, covariance_matrix)\n",
    "\n",
    "x=x_test\n",
    "y=y_test\n",
    "# x = x_test + x_train\n",
    "# y = y_test + y_train\n",
    "\n",
    "fig, axes = plt.subplots(1, 2, figsize=(10, 4))\n",
    "\n",
    "sns.heatmap(ax=axes[0], data=covariance_matrix)\n",
    "axes[0].set_title(\"Covariance Matrix\")\n",
    "\n",
    "axes[1].set_title(\"Sample Function\")\n",
    "axes[1].scatter(x, y)\n",
    "\n"
   ]
  },
  {
   "cell_type": "code",
   "execution_count": 66,
   "metadata": {},
   "outputs": [
    {
     "data": {
      "text/plain": [
       "array([0.25, 0.5 , 0.75])"
      ]
     },
     "execution_count": 66,
     "metadata": {},
     "output_type": "execute_result"
    }
   ],
   "source": [
    "np.array([0.25,0.5,0.75])\n",
    "\n",
    "    "
   ]
  },
  {
   "cell_type": "code",
   "execution_count": 68,
   "metadata": {},
   "outputs": [
    {
     "data": {
      "text/plain": [
       "array([[0., 0., 0.],\n",
       "       [0., 0., 0.]])"
      ]
     },
     "execution_count": 68,
     "metadata": {},
     "output_type": "execute_result"
    }
   ],
   "source": [
    "np.zeros((2,3))"
   ]
  },
  {
   "cell_type": "code",
   "execution_count": 94,
   "metadata": {},
   "outputs": [
    {
     "name": "stdout",
     "output_type": "stream",
     "text": [
      "[[23 29]\n",
      " [46 58]]\n"
     ]
    }
   ],
   "source": [
    "A = np.array([[1,2,3],[2,4,6]])\n",
    "B = np.array([[2,3],[3,4],[5,6]])\n",
    "print(A.dot(B))"
   ]
  },
  {
   "cell_type": "code",
   "execution_count": null,
   "metadata": {},
   "outputs": [],
   "source": []
  }
 ],
 "metadata": {
  "kernelspec": {
   "display_name": "Python 3",
   "language": "python",
   "name": "python3"
  },
  "language_info": {
   "codemirror_mode": {
    "name": "ipython",
    "version": 3
   },
   "file_extension": ".py",
   "mimetype": "text/x-python",
   "name": "python",
   "nbconvert_exporter": "python",
   "pygments_lexer": "ipython3",
   "version": "3.8.13 (default, Jul  6 2022, 16:15:44) \n[Clang 11.0.3 (clang-1103.0.32.62)]"
  },
  "orig_nbformat": 4,
  "vscode": {
   "interpreter": {
    "hash": "0020219f28b04dfc6ec1f1d19876ddfcfb25e6c120901cf98bd6dfc3a6774965"
   }
  }
 },
 "nbformat": 4,
 "nbformat_minor": 2
}
